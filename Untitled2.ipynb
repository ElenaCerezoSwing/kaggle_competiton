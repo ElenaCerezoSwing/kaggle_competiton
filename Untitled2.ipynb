{
 "cells": [
  {
   "cell_type": "code",
   "execution_count": 1,
   "metadata": {},
   "outputs": [],
   "source": [
    "import pandas as pd\n",
    "import numpy as np"
   ]
  },
  {
   "cell_type": "code",
   "execution_count": 2,
   "metadata": {},
   "outputs": [],
   "source": [
    "train = pd.read_csv('./data/cars_train.csv')"
   ]
  },
  {
   "cell_type": "code",
   "execution_count": 3,
   "metadata": {},
   "outputs": [],
   "source": [
    "test = pd.read_csv('./data/cars_test.csv')"
   ]
  },
  {
   "cell_type": "code",
   "execution_count": 4,
   "metadata": {},
   "outputs": [],
   "source": [
    "def get_transmission_values(s):\n",
    "    if s =='automatic':\n",
    "        return 1\n",
    "    elif s =='manual':\n",
    "        return 0\n",
    "    else:\n",
    "        return np.NaN"
   ]
  },
  {
   "cell_type": "code",
   "execution_count": 5,
   "metadata": {},
   "outputs": [],
   "source": [
    "def cylinders_to_string(s):\n",
    "    if isinstance(s, str) and 'cylinders' in s:\n",
    "        return int(s.split(' ')[0])\n",
    "    else:\n",
    "        return np.nan"
   ]
  },
  {
   "cell_type": "code",
   "execution_count": 6,
   "metadata": {},
   "outputs": [],
   "source": [
    "y = train['price']\n",
    "X = train.drop('price',axis=1)\n",
    "X_test = test\n"
   ]
  },
  {
   "cell_type": "code",
   "execution_count": 7,
   "metadata": {},
   "outputs": [
    {
     "data": {
      "text/html": [
       "<div>\n",
       "<style scoped>\n",
       "    .dataframe tbody tr th:only-of-type {\n",
       "        vertical-align: middle;\n",
       "    }\n",
       "\n",
       "    .dataframe tbody tr th {\n",
       "        vertical-align: top;\n",
       "    }\n",
       "\n",
       "    .dataframe thead th {\n",
       "        text-align: right;\n",
       "    }\n",
       "</style>\n",
       "<table border=\"1\" class=\"dataframe\">\n",
       "  <thead>\n",
       "    <tr style=\"text-align: right;\">\n",
       "      <th></th>\n",
       "      <th>Id</th>\n",
       "      <th>city</th>\n",
       "      <th>year</th>\n",
       "      <th>manufacturer</th>\n",
       "      <th>make</th>\n",
       "      <th>condition</th>\n",
       "      <th>cylinders</th>\n",
       "      <th>fuel</th>\n",
       "      <th>odometer</th>\n",
       "      <th>title_status</th>\n",
       "      <th>...</th>\n",
       "      <th>type</th>\n",
       "      <th>paint_color</th>\n",
       "      <th>lat</th>\n",
       "      <th>long</th>\n",
       "      <th>county_fips</th>\n",
       "      <th>county_name</th>\n",
       "      <th>state_fips</th>\n",
       "      <th>state_code</th>\n",
       "      <th>state_name</th>\n",
       "      <th>weather</th>\n",
       "    </tr>\n",
       "  </thead>\n",
       "  <tbody>\n",
       "    <tr>\n",
       "      <th>0</th>\n",
       "      <td>974298</td>\n",
       "      <td>duluth</td>\n",
       "      <td>2006.0</td>\n",
       "      <td>ford</td>\n",
       "      <td>f-250 super duty</td>\n",
       "      <td>good</td>\n",
       "      <td>8 cylinders</td>\n",
       "      <td>gas</td>\n",
       "      <td>154400.0</td>\n",
       "      <td>clean</td>\n",
       "      <td>...</td>\n",
       "      <td>pickup</td>\n",
       "      <td>white</td>\n",
       "      <td>47.746524</td>\n",
       "      <td>-90.357742</td>\n",
       "      <td>27031.0</td>\n",
       "      <td>Cook</td>\n",
       "      <td>27.0</td>\n",
       "      <td>MN</td>\n",
       "      <td>Minnesota</td>\n",
       "      <td>43.0</td>\n",
       "    </tr>\n",
       "    <tr>\n",
       "      <th>1</th>\n",
       "      <td>1051884</td>\n",
       "      <td>kansascity</td>\n",
       "      <td>1987.0</td>\n",
       "      <td>chevrolet</td>\n",
       "      <td>NaN</td>\n",
       "      <td>NaN</td>\n",
       "      <td>NaN</td>\n",
       "      <td>gas</td>\n",
       "      <td>NaN</td>\n",
       "      <td>clean</td>\n",
       "      <td>...</td>\n",
       "      <td>NaN</td>\n",
       "      <td>NaN</td>\n",
       "      <td>38.373182</td>\n",
       "      <td>-93.776859</td>\n",
       "      <td>29083.0</td>\n",
       "      <td>Henry/Rives</td>\n",
       "      <td>29.0</td>\n",
       "      <td>MO</td>\n",
       "      <td>Missouri</td>\n",
       "      <td>52.0</td>\n",
       "    </tr>\n",
       "    <tr>\n",
       "      <th>2</th>\n",
       "      <td>684464</td>\n",
       "      <td>palmsprings</td>\n",
       "      <td>2010.0</td>\n",
       "      <td>jeep</td>\n",
       "      <td>liberty sport</td>\n",
       "      <td>NaN</td>\n",
       "      <td>6 cylinders</td>\n",
       "      <td>gas</td>\n",
       "      <td>127722.0</td>\n",
       "      <td>clean</td>\n",
       "      <td>...</td>\n",
       "      <td>SUV</td>\n",
       "      <td>NaN</td>\n",
       "      <td>33.741059</td>\n",
       "      <td>-116.356434</td>\n",
       "      <td>6065.0</td>\n",
       "      <td>Riverside</td>\n",
       "      <td>6.0</td>\n",
       "      <td>CA</td>\n",
       "      <td>California</td>\n",
       "      <td>59.0</td>\n",
       "    </tr>\n",
       "    <tr>\n",
       "      <th>3</th>\n",
       "      <td>1255387</td>\n",
       "      <td>sanmarcos</td>\n",
       "      <td>2003.0</td>\n",
       "      <td>chevrolet</td>\n",
       "      <td>tahoe</td>\n",
       "      <td>fair</td>\n",
       "      <td>8 cylinders</td>\n",
       "      <td>gas</td>\n",
       "      <td>NaN</td>\n",
       "      <td>clean</td>\n",
       "      <td>...</td>\n",
       "      <td>SUV</td>\n",
       "      <td>white</td>\n",
       "      <td>30.026266</td>\n",
       "      <td>-98.133363</td>\n",
       "      <td>48209.0</td>\n",
       "      <td>Hays</td>\n",
       "      <td>48.0</td>\n",
       "      <td>TX</td>\n",
       "      <td>Texas</td>\n",
       "      <td>67.0</td>\n",
       "    </tr>\n",
       "    <tr>\n",
       "      <th>4</th>\n",
       "      <td>1195520</td>\n",
       "      <td>tampa</td>\n",
       "      <td>2006.0</td>\n",
       "      <td>lexus</td>\n",
       "      <td>gs 300</td>\n",
       "      <td>NaN</td>\n",
       "      <td>NaN</td>\n",
       "      <td>gas</td>\n",
       "      <td>NaN</td>\n",
       "      <td>clean</td>\n",
       "      <td>...</td>\n",
       "      <td>NaN</td>\n",
       "      <td>NaN</td>\n",
       "      <td>27.868800</td>\n",
       "      <td>-82.734400</td>\n",
       "      <td>12103.0</td>\n",
       "      <td>Pinellas</td>\n",
       "      <td>12.0</td>\n",
       "      <td>FL</td>\n",
       "      <td>Florida</td>\n",
       "      <td>65.0</td>\n",
       "    </tr>\n",
       "  </tbody>\n",
       "</table>\n",
       "<p>5 rows × 23 columns</p>\n",
       "</div>"
      ],
      "text/plain": [
       "        Id         city    year manufacturer              make condition  \\\n",
       "0   974298       duluth  2006.0         ford  f-250 super duty      good   \n",
       "1  1051884   kansascity  1987.0    chevrolet               NaN       NaN   \n",
       "2   684464  palmsprings  2010.0         jeep     liberty sport       NaN   \n",
       "3  1255387    sanmarcos  2003.0    chevrolet             tahoe      fair   \n",
       "4  1195520        tampa  2006.0        lexus            gs 300       NaN   \n",
       "\n",
       "     cylinders fuel  odometer title_status  ...    type paint_color  \\\n",
       "0  8 cylinders  gas  154400.0        clean  ...  pickup       white   \n",
       "1          NaN  gas       NaN        clean  ...     NaN         NaN   \n",
       "2  6 cylinders  gas  127722.0        clean  ...     SUV         NaN   \n",
       "3  8 cylinders  gas       NaN        clean  ...     SUV       white   \n",
       "4          NaN  gas       NaN        clean  ...     NaN         NaN   \n",
       "\n",
       "         lat        long county_fips  county_name  state_fips  state_code  \\\n",
       "0  47.746524  -90.357742     27031.0         Cook        27.0          MN   \n",
       "1  38.373182  -93.776859     29083.0  Henry/Rives        29.0          MO   \n",
       "2  33.741059 -116.356434      6065.0    Riverside         6.0          CA   \n",
       "3  30.026266  -98.133363     48209.0         Hays        48.0          TX   \n",
       "4  27.868800  -82.734400     12103.0     Pinellas        12.0          FL   \n",
       "\n",
       "   state_name  weather  \n",
       "0   Minnesota     43.0  \n",
       "1    Missouri     52.0  \n",
       "2  California     59.0  \n",
       "3       Texas     67.0  \n",
       "4     Florida     65.0  \n",
       "\n",
       "[5 rows x 23 columns]"
      ]
     },
     "execution_count": 7,
     "metadata": {},
     "output_type": "execute_result"
    }
   ],
   "source": [
    "test.head()"
   ]
  },
  {
   "cell_type": "code",
   "execution_count": 8,
   "metadata": {},
   "outputs": [],
   "source": [
    "to_drop = ['Id','county_fips', 'county_name', 'state_fips', \n",
    "           'state_code','title_status', 'state_name', 'city', 'manufacturer', \n",
    "           'make', 'paint_color', 'drive', 'condition']"
   ]
  },
  {
   "cell_type": "code",
   "execution_count": 9,
   "metadata": {},
   "outputs": [],
   "source": [
    "X.drop(to_drop, axis=1, inplace=True)"
   ]
  },
  {
   "cell_type": "code",
   "execution_count": 10,
   "metadata": {},
   "outputs": [],
   "source": [
    "X['cylinders'] = X['cylinders'].apply(cylinders_to_string)\n",
    "X['transmission'] = X['transmission'].apply(get_transmission_values)"
   ]
  },
  {
   "cell_type": "code",
   "execution_count": 11,
   "metadata": {},
   "outputs": [
    {
     "data": {
      "text/plain": [
       "Index(['year', 'cylinders', 'odometer', 'transmission', 'lat', 'long',\n",
       "       'weather', 'fuel_diesel', 'fuel_electric', 'fuel_gas', 'fuel_hybrid',\n",
       "       'fuel_other', 'size_compact', 'size_full-size', 'size_mid-size',\n",
       "       'size_sub-compact', 'type_SUV', 'type_bus', 'type_convertible',\n",
       "       'type_coupe', 'type_hatchback', 'type_mini-van', 'type_offroad',\n",
       "       'type_other', 'type_pickup', 'type_sedan', 'type_truck', 'type_van',\n",
       "       'type_wagon'],\n",
       "      dtype='object')"
      ]
     },
     "execution_count": 11,
     "metadata": {},
     "output_type": "execute_result"
    }
   ],
   "source": [
    "X = pd.get_dummies(X, ['fuel', 'size', 'type'])\n",
    "X.columns"
   ]
  },
  {
   "cell_type": "code",
   "execution_count": 12,
   "metadata": {},
   "outputs": [],
   "source": [
    "X_test.drop(to_drop, axis=1, inplace=True)\n",
    "X_test['cylinders'] = X_test['cylinders'].apply(cylinders_to_string)\n",
    "X_test['transmission'] = X_test['transmission'].apply(get_transmission_values)\n",
    "X_test = pd.get_dummies(X_test, ['fuel', 'size', 'type'])"
   ]
  },
  {
   "cell_type": "code",
   "execution_count": 13,
   "metadata": {},
   "outputs": [],
   "source": [
    "from sklearn.preprocessing import StandardScaler\n",
    "scaler = StandardScaler()\n",
    "scaler.fit(X)\n",
    "scaler.mean_\n",
    "X_transform = pd.DataFrame(scaler.transform(X))\n",
    "X_test_transform = pd.DataFrame(scaler.transform(X_test))"
   ]
  },
  {
   "cell_type": "code",
   "execution_count": 14,
   "metadata": {},
   "outputs": [],
   "source": [
    "X_transform\n",
    "cols = [0, 1, 2, 3, 6]"
   ]
  },
  {
   "cell_type": "code",
   "execution_count": 15,
   "metadata": {},
   "outputs": [],
   "source": [
    "def fillna_with_mean(df, cols):\n",
    "    for col in cols:\n",
    "        df[col] = df[col].fillna(0, inplace=True)"
   ]
  },
  {
   "cell_type": "code",
   "execution_count": 16,
   "metadata": {},
   "outputs": [
    {
     "data": {
      "text/plain": [
       "LinearRegression(copy_X=True, fit_intercept=True, n_jobs=None, normalize=False)"
      ]
     },
     "execution_count": 16,
     "metadata": {},
     "output_type": "execute_result"
    }
   ],
   "source": [
    "from sklearn.linear_model import LinearRegression\n",
    "regressor = LinearRegression()\n",
    "\n",
    "\n",
    "#regressor.fit(X_transform, y)\n",
    "X_transform.head()\n",
    "X_transform = X_transform.fillna(0)\n",
    "regressor.fit(X_transform, y)"
   ]
  },
  {
   "cell_type": "code",
   "execution_count": 17,
   "metadata": {},
   "outputs": [
    {
     "data": {
      "text/html": [
       "<div>\n",
       "<style scoped>\n",
       "    .dataframe tbody tr th:only-of-type {\n",
       "        vertical-align: middle;\n",
       "    }\n",
       "\n",
       "    .dataframe tbody tr th {\n",
       "        vertical-align: top;\n",
       "    }\n",
       "\n",
       "    .dataframe thead th {\n",
       "        text-align: right;\n",
       "    }\n",
       "</style>\n",
       "<table border=\"1\" class=\"dataframe\">\n",
       "  <thead>\n",
       "    <tr style=\"text-align: right;\">\n",
       "      <th></th>\n",
       "      <th>0</th>\n",
       "      <th>1</th>\n",
       "      <th>2</th>\n",
       "      <th>3</th>\n",
       "      <th>4</th>\n",
       "      <th>5</th>\n",
       "      <th>6</th>\n",
       "      <th>7</th>\n",
       "      <th>8</th>\n",
       "      <th>9</th>\n",
       "      <th>...</th>\n",
       "      <th>19</th>\n",
       "      <th>20</th>\n",
       "      <th>21</th>\n",
       "      <th>22</th>\n",
       "      <th>23</th>\n",
       "      <th>24</th>\n",
       "      <th>25</th>\n",
       "      <th>26</th>\n",
       "      <th>27</th>\n",
       "      <th>28</th>\n",
       "    </tr>\n",
       "  </thead>\n",
       "  <tbody>\n",
       "    <tr>\n",
       "      <th>0</th>\n",
       "      <td>0.094672</td>\n",
       "      <td>-1.274640</td>\n",
       "      <td>0.545504</td>\n",
       "      <td>0.370931</td>\n",
       "      <td>0.085072</td>\n",
       "      <td>1.006826</td>\n",
       "      <td>0.283505</td>\n",
       "      <td>-0.275509</td>\n",
       "      <td>-0.038009</td>\n",
       "      <td>0.353072</td>\n",
       "      <td>...</td>\n",
       "      <td>-0.210247</td>\n",
       "      <td>-0.150732</td>\n",
       "      <td>-0.120412</td>\n",
       "      <td>-0.054385</td>\n",
       "      <td>-0.115583</td>\n",
       "      <td>-0.27768</td>\n",
       "      <td>-0.432125</td>\n",
       "      <td>-0.290215</td>\n",
       "      <td>-0.122271</td>\n",
       "      <td>-0.12254</td>\n",
       "    </tr>\n",
       "    <tr>\n",
       "      <th>1</th>\n",
       "      <td>1.099313</td>\n",
       "      <td>0.000000</td>\n",
       "      <td>0.000000</td>\n",
       "      <td>0.370931</td>\n",
       "      <td>-0.177302</td>\n",
       "      <td>0.265040</td>\n",
       "      <td>-0.741734</td>\n",
       "      <td>-0.275509</td>\n",
       "      <td>-0.038009</td>\n",
       "      <td>0.353072</td>\n",
       "      <td>...</td>\n",
       "      <td>-0.210247</td>\n",
       "      <td>-0.150732</td>\n",
       "      <td>-0.120412</td>\n",
       "      <td>-0.054385</td>\n",
       "      <td>-0.115583</td>\n",
       "      <td>-0.27768</td>\n",
       "      <td>-0.432125</td>\n",
       "      <td>-0.290215</td>\n",
       "      <td>-0.122271</td>\n",
       "      <td>-0.12254</td>\n",
       "    </tr>\n",
       "    <tr>\n",
       "      <th>2</th>\n",
       "      <td>-0.658809</td>\n",
       "      <td>0.000000</td>\n",
       "      <td>0.000000</td>\n",
       "      <td>0.370931</td>\n",
       "      <td>0.787688</td>\n",
       "      <td>0.609267</td>\n",
       "      <td>-1.126198</td>\n",
       "      <td>-0.275509</td>\n",
       "      <td>-0.038009</td>\n",
       "      <td>0.353072</td>\n",
       "      <td>...</td>\n",
       "      <td>-0.210247</td>\n",
       "      <td>-0.150732</td>\n",
       "      <td>-0.120412</td>\n",
       "      <td>-0.054385</td>\n",
       "      <td>-0.115583</td>\n",
       "      <td>3.60127</td>\n",
       "      <td>-0.432125</td>\n",
       "      <td>-0.290215</td>\n",
       "      <td>-0.122271</td>\n",
       "      <td>-0.12254</td>\n",
       "    </tr>\n",
       "    <tr>\n",
       "      <th>3</th>\n",
       "      <td>-0.156488</td>\n",
       "      <td>1.195472</td>\n",
       "      <td>0.000000</td>\n",
       "      <td>0.370931</td>\n",
       "      <td>-1.829894</td>\n",
       "      <td>-0.351910</td>\n",
       "      <td>1.693209</td>\n",
       "      <td>-0.275509</td>\n",
       "      <td>-0.038009</td>\n",
       "      <td>0.353072</td>\n",
       "      <td>...</td>\n",
       "      <td>-0.210247</td>\n",
       "      <td>-0.150732</td>\n",
       "      <td>-0.120412</td>\n",
       "      <td>-0.054385</td>\n",
       "      <td>-0.115583</td>\n",
       "      <td>-0.27768</td>\n",
       "      <td>-0.432125</td>\n",
       "      <td>-0.290215</td>\n",
       "      <td>-0.122271</td>\n",
       "      <td>-0.12254</td>\n",
       "    </tr>\n",
       "    <tr>\n",
       "      <th>4</th>\n",
       "      <td>-0.407649</td>\n",
       "      <td>0.000000</td>\n",
       "      <td>0.000000</td>\n",
       "      <td>0.370931</td>\n",
       "      <td>-1.609726</td>\n",
       "      <td>0.718078</td>\n",
       "      <td>1.436899</td>\n",
       "      <td>-0.275509</td>\n",
       "      <td>-0.038009</td>\n",
       "      <td>0.353072</td>\n",
       "      <td>...</td>\n",
       "      <td>-0.210247</td>\n",
       "      <td>-0.150732</td>\n",
       "      <td>-0.120412</td>\n",
       "      <td>-0.054385</td>\n",
       "      <td>-0.115583</td>\n",
       "      <td>-0.27768</td>\n",
       "      <td>-0.432125</td>\n",
       "      <td>-0.290215</td>\n",
       "      <td>-0.122271</td>\n",
       "      <td>-0.12254</td>\n",
       "    </tr>\n",
       "  </tbody>\n",
       "</table>\n",
       "<p>5 rows × 29 columns</p>\n",
       "</div>"
      ],
      "text/plain": [
       "         0         1         2         3         4         5         6   \\\n",
       "0  0.094672 -1.274640  0.545504  0.370931  0.085072  1.006826  0.283505   \n",
       "1  1.099313  0.000000  0.000000  0.370931 -0.177302  0.265040 -0.741734   \n",
       "2 -0.658809  0.000000  0.000000  0.370931  0.787688  0.609267 -1.126198   \n",
       "3 -0.156488  1.195472  0.000000  0.370931 -1.829894 -0.351910  1.693209   \n",
       "4 -0.407649  0.000000  0.000000  0.370931 -1.609726  0.718078  1.436899   \n",
       "\n",
       "         7         8         9   ...        19        20        21        22  \\\n",
       "0 -0.275509 -0.038009  0.353072  ... -0.210247 -0.150732 -0.120412 -0.054385   \n",
       "1 -0.275509 -0.038009  0.353072  ... -0.210247 -0.150732 -0.120412 -0.054385   \n",
       "2 -0.275509 -0.038009  0.353072  ... -0.210247 -0.150732 -0.120412 -0.054385   \n",
       "3 -0.275509 -0.038009  0.353072  ... -0.210247 -0.150732 -0.120412 -0.054385   \n",
       "4 -0.275509 -0.038009  0.353072  ... -0.210247 -0.150732 -0.120412 -0.054385   \n",
       "\n",
       "         23       24        25        26        27       28  \n",
       "0 -0.115583 -0.27768 -0.432125 -0.290215 -0.122271 -0.12254  \n",
       "1 -0.115583 -0.27768 -0.432125 -0.290215 -0.122271 -0.12254  \n",
       "2 -0.115583  3.60127 -0.432125 -0.290215 -0.122271 -0.12254  \n",
       "3 -0.115583 -0.27768 -0.432125 -0.290215 -0.122271 -0.12254  \n",
       "4 -0.115583 -0.27768 -0.432125 -0.290215 -0.122271 -0.12254  \n",
       "\n",
       "[5 rows x 29 columns]"
      ]
     },
     "execution_count": 17,
     "metadata": {},
     "output_type": "execute_result"
    }
   ],
   "source": [
    "X_transform.head()"
   ]
  },
  {
   "cell_type": "code",
   "execution_count": 18,
   "metadata": {},
   "outputs": [],
   "source": [
    "X_test_transform = X_test_transform.fillna(0)"
   ]
  },
  {
   "cell_type": "code",
   "execution_count": 19,
   "metadata": {},
   "outputs": [],
   "source": [
    "y_pred = regressor.predict(X_test_transform)"
   ]
  },
  {
   "cell_type": "code",
   "execution_count": 20,
   "metadata": {},
   "outputs": [],
   "source": [
    "sub = pd.read_csv('./data/cars_sample_submission.csv.zip')"
   ]
  },
  {
   "cell_type": "code",
   "execution_count": 21,
   "metadata": {},
   "outputs": [],
   "source": [
    "sub['price'] = y_pred"
   ]
  },
  {
   "cell_type": "code",
   "execution_count": 22,
   "metadata": {},
   "outputs": [],
   "source": [
    "sub.to_csv('output_data/prueba8.csv', index=False)"
   ]
  },
  {
   "cell_type": "code",
   "execution_count": 24,
   "metadata": {},
   "outputs": [
    {
     "data": {
      "text/plain": [
       "SGDRegressor(alpha=0.0001, average=False, early_stopping=False, epsilon=0.1,\n",
       "             eta0=0.01, fit_intercept=True, l1_ratio=0.15,\n",
       "             learning_rate='invscaling', loss='squared_loss', max_iter=1000,\n",
       "             n_iter_no_change=5, penalty='l2', power_t=0.25, random_state=None,\n",
       "             shuffle=True, tol=0.001, validation_fraction=0.1, verbose=0,\n",
       "             warm_start=False)"
      ]
     },
     "execution_count": 24,
     "metadata": {},
     "output_type": "execute_result"
    }
   ],
   "source": [
    "from sklearn.linear_model import SGDRegressor\n",
    "sgd = SGDRegressor(max_iter=1000, tol=1e-3)\n",
    "sgd.fit(X_transform, y)"
   ]
  },
  {
   "cell_type": "code",
   "execution_count": 25,
   "metadata": {},
   "outputs": [],
   "source": [
    "y_pred_sgd = sgd.predict(X_test_transform)"
   ]
  },
  {
   "cell_type": "code",
   "execution_count": null,
   "metadata": {},
   "outputs": [],
   "source": [
    "sub['price'] = y_pred_sgd"
   ]
  },
  {
   "cell_type": "code",
   "execution_count": null,
   "metadata": {},
   "outputs": [],
   "source": [
    "sub.to_csv('output_data/prueba9.csv', index=False)"
   ]
  },
  {
   "cell_type": "code",
   "execution_count": null,
   "metadata": {},
   "outputs": [],
   "source": [
    "from sklearn.ensemble import RandomForestRegressor\n",
    "from sklearn.datasets import make_regression\n",
    "regr = RandomForestRegressor(max_depth=5, random_state=42,\n",
    "                             n_estimators=100)\n",
    "regr.fit(X_transform, y)"
   ]
  },
  {
   "cell_type": "code",
   "execution_count": null,
   "metadata": {},
   "outputs": [],
   "source": [
    "y_pred_random = regr.predict(X_test_transform)"
   ]
  },
  {
   "cell_type": "code",
   "execution_count": null,
   "metadata": {},
   "outputs": [],
   "source": [
    "len(X_transform.columns)"
   ]
  },
  {
   "cell_type": "code",
   "execution_count": null,
   "metadata": {},
   "outputs": [],
   "source": [
    "sub['price'] = y_pred_random\n",
    "sub.to_csv('output_data/prueba11.csv', index=False)"
   ]
  },
  {
   "cell_type": "code",
   "execution_count": 26,
   "metadata": {},
   "outputs": [],
   "source": [
    "from sklearn.linear_model import ElasticNet\n",
    "from sklearn.datasets import make_regression"
   ]
  },
  {
   "cell_type": "code",
   "execution_count": 27,
   "metadata": {},
   "outputs": [
    {
     "ename": "ValueError",
     "evalue": "Found input variables with inconsistent numbers of samples: [469992, 100]",
     "output_type": "error",
     "traceback": [
      "\u001b[0;31m---------------------------------------------------------------------------\u001b[0m",
      "\u001b[0;31mValueError\u001b[0m                                Traceback (most recent call last)",
      "\u001b[0;32m<ipython-input-27-02fc0489c691>\u001b[0m in \u001b[0;36m<module>\u001b[0;34m\u001b[0m\n\u001b[1;32m      1\u001b[0m \u001b[0mX\u001b[0m\u001b[0;34m,\u001b[0m \u001b[0my\u001b[0m \u001b[0;34m=\u001b[0m \u001b[0mmake_regression\u001b[0m\u001b[0;34m(\u001b[0m\u001b[0mn_features\u001b[0m\u001b[0;34m=\u001b[0m\u001b[0;36m29\u001b[0m\u001b[0;34m,\u001b[0m \u001b[0mrandom_state\u001b[0m\u001b[0;34m=\u001b[0m\u001b[0;36m42\u001b[0m\u001b[0;34m)\u001b[0m\u001b[0;34m\u001b[0m\u001b[0;34m\u001b[0m\u001b[0m\n\u001b[1;32m      2\u001b[0m \u001b[0melasti\u001b[0m \u001b[0;34m=\u001b[0m \u001b[0mElasticNet\u001b[0m\u001b[0;34m(\u001b[0m\u001b[0mrandom_state\u001b[0m\u001b[0;34m=\u001b[0m\u001b[0;36m42\u001b[0m\u001b[0;34m)\u001b[0m\u001b[0;34m\u001b[0m\u001b[0;34m\u001b[0m\u001b[0m\n\u001b[0;32m----> 3\u001b[0;31m \u001b[0melasti\u001b[0m\u001b[0;34m.\u001b[0m\u001b[0mfit\u001b[0m\u001b[0;34m(\u001b[0m\u001b[0mX_transform\u001b[0m\u001b[0;34m,\u001b[0m \u001b[0my\u001b[0m\u001b[0;34m)\u001b[0m\u001b[0;34m\u001b[0m\u001b[0;34m\u001b[0m\u001b[0m\n\u001b[0m\u001b[1;32m      4\u001b[0m \u001b[0my_pred_elasti\u001b[0m \u001b[0;34m=\u001b[0m \u001b[0melasti\u001b[0m\u001b[0;34m.\u001b[0m\u001b[0mpredict\u001b[0m\u001b[0;34m(\u001b[0m\u001b[0mX_test_transform\u001b[0m\u001b[0;34m)\u001b[0m\u001b[0;34m\u001b[0m\u001b[0;34m\u001b[0m\u001b[0m\n",
      "\u001b[0;32m/usr/local/lib/python3.7/site-packages/sklearn/linear_model/coordinate_descent.py\u001b[0m in \u001b[0;36mfit\u001b[0;34m(self, X, y, check_input)\u001b[0m\n\u001b[1;32m    701\u001b[0m             X, y = check_X_y(X, y, accept_sparse='csc',\n\u001b[1;32m    702\u001b[0m                              \u001b[0morder\u001b[0m\u001b[0;34m=\u001b[0m\u001b[0;34m'F'\u001b[0m\u001b[0;34m,\u001b[0m \u001b[0mdtype\u001b[0m\u001b[0;34m=\u001b[0m\u001b[0;34m[\u001b[0m\u001b[0mnp\u001b[0m\u001b[0;34m.\u001b[0m\u001b[0mfloat64\u001b[0m\u001b[0;34m,\u001b[0m \u001b[0mnp\u001b[0m\u001b[0;34m.\u001b[0m\u001b[0mfloat32\u001b[0m\u001b[0;34m]\u001b[0m\u001b[0;34m,\u001b[0m\u001b[0;34m\u001b[0m\u001b[0;34m\u001b[0m\u001b[0m\n\u001b[0;32m--> 703\u001b[0;31m                              copy=X_copied, multi_output=True, y_numeric=True)\n\u001b[0m\u001b[1;32m    704\u001b[0m             y = check_array(y, order='F', copy=False, dtype=X.dtype.type,\n\u001b[1;32m    705\u001b[0m                             ensure_2d=False)\n",
      "\u001b[0;32m/usr/local/lib/python3.7/site-packages/sklearn/utils/validation.py\u001b[0m in \u001b[0;36mcheck_X_y\u001b[0;34m(X, y, accept_sparse, accept_large_sparse, dtype, order, copy, force_all_finite, ensure_2d, allow_nd, multi_output, ensure_min_samples, ensure_min_features, y_numeric, warn_on_dtype, estimator)\u001b[0m\n\u001b[1;32m    727\u001b[0m         \u001b[0my\u001b[0m \u001b[0;34m=\u001b[0m \u001b[0my\u001b[0m\u001b[0;34m.\u001b[0m\u001b[0mastype\u001b[0m\u001b[0;34m(\u001b[0m\u001b[0mnp\u001b[0m\u001b[0;34m.\u001b[0m\u001b[0mfloat64\u001b[0m\u001b[0;34m)\u001b[0m\u001b[0;34m\u001b[0m\u001b[0;34m\u001b[0m\u001b[0m\n\u001b[1;32m    728\u001b[0m \u001b[0;34m\u001b[0m\u001b[0m\n\u001b[0;32m--> 729\u001b[0;31m     \u001b[0mcheck_consistent_length\u001b[0m\u001b[0;34m(\u001b[0m\u001b[0mX\u001b[0m\u001b[0;34m,\u001b[0m \u001b[0my\u001b[0m\u001b[0;34m)\u001b[0m\u001b[0;34m\u001b[0m\u001b[0;34m\u001b[0m\u001b[0m\n\u001b[0m\u001b[1;32m    730\u001b[0m \u001b[0;34m\u001b[0m\u001b[0m\n\u001b[1;32m    731\u001b[0m     \u001b[0;32mreturn\u001b[0m \u001b[0mX\u001b[0m\u001b[0;34m,\u001b[0m \u001b[0my\u001b[0m\u001b[0;34m\u001b[0m\u001b[0;34m\u001b[0m\u001b[0m\n",
      "\u001b[0;32m/usr/local/lib/python3.7/site-packages/sklearn/utils/validation.py\u001b[0m in \u001b[0;36mcheck_consistent_length\u001b[0;34m(*arrays)\u001b[0m\n\u001b[1;32m    203\u001b[0m     \u001b[0;32mif\u001b[0m \u001b[0mlen\u001b[0m\u001b[0;34m(\u001b[0m\u001b[0muniques\u001b[0m\u001b[0;34m)\u001b[0m \u001b[0;34m>\u001b[0m \u001b[0;36m1\u001b[0m\u001b[0;34m:\u001b[0m\u001b[0;34m\u001b[0m\u001b[0;34m\u001b[0m\u001b[0m\n\u001b[1;32m    204\u001b[0m         raise ValueError(\"Found input variables with inconsistent numbers of\"\n\u001b[0;32m--> 205\u001b[0;31m                          \" samples: %r\" % [int(l) for l in lengths])\n\u001b[0m\u001b[1;32m    206\u001b[0m \u001b[0;34m\u001b[0m\u001b[0m\n\u001b[1;32m    207\u001b[0m \u001b[0;34m\u001b[0m\u001b[0m\n",
      "\u001b[0;31mValueError\u001b[0m: Found input variables with inconsistent numbers of samples: [469992, 100]"
     ]
    }
   ],
   "source": [
    "X, y = make_regression(n_features=29, random_state=42)\n",
    "elasti = ElasticNet(random_state=42)\n",
    "elasti.fit(X_transform, y) \n",
    "y_pred_elasti = elasti.predict(X_test_transform)"
   ]
  },
  {
   "cell_type": "code",
   "execution_count": null,
   "metadata": {},
   "outputs": [],
   "source": [
    "sub['price'] = y_pred_elasti"
   ]
  },
  {
   "cell_type": "code",
   "execution_count": null,
   "metadata": {},
   "outputs": [],
   "source": [
    "sub.to_csv('output_data/prueba12.csv', index=False)"
   ]
  },
  {
   "cell_type": "code",
   "execution_count": null,
   "metadata": {},
   "outputs": [],
   "source": [
    "from sklearn.neighbors import KNeighborsRegressor\n",
    "neigh = KNeighborsRegressor(n_neighbors=3)\n",
    "neigh.fit(X_transform, y)\n",
    "y_pred_kneig = neigh.predict(X_test_transform)"
   ]
  },
  {
   "cell_type": "code",
   "execution_count": null,
   "metadata": {},
   "outputs": [],
   "source": [
    "sub['price'] = y_pred_kneig"
   ]
  },
  {
   "cell_type": "code",
   "execution_count": null,
   "metadata": {},
   "outputs": [],
   "source": [
    "sub.to_csv('output_data/prueba10.csv', index=False)"
   ]
  },
  {
   "cell_type": "code",
   "execution_count": null,
   "metadata": {},
   "outputs": [],
   "source": []
  }
 ],
 "metadata": {
  "kernelspec": {
   "display_name": "Python 3",
   "language": "python",
   "name": "python3"
  },
  "language_info": {
   "codemirror_mode": {
    "name": "ipython",
    "version": 3
   },
   "file_extension": ".py",
   "mimetype": "text/x-python",
   "name": "python",
   "nbconvert_exporter": "python",
   "pygments_lexer": "ipython3",
   "version": "3.7.3"
  }
 },
 "nbformat": 4,
 "nbformat_minor": 2
}
